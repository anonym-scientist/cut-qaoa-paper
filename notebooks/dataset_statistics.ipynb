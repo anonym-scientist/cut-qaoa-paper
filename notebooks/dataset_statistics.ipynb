{
 "cells": [
  {
   "cell_type": "code",
   "execution_count": 2,
   "outputs": [],
   "source": [
    "import os\n",
    "os.chdir('..')"
   ],
   "metadata": {
    "collapsed": false
   }
  },
  {
   "cell_type": "code",
   "execution_count": 3,
   "metadata": {
    "collapsed": true
   },
   "outputs": [],
   "source": [
    "from pathlib import Path\n",
    "from experiment_complete_eval import create_combined_df"
   ]
  },
  {
   "cell_type": "code",
   "execution_count": 5,
   "outputs": [
    {
     "data": {
      "text/plain": "       algorithm  shots  mean_squared_error  mean_absolute_error  \\\n0           qaoa    250            0.814374             0.606072   \n1       cut-qaoa    250            0.966889             0.769572   \n2     qaoa-short    250            0.690346             0.560076   \n3           qaoa    500            0.799434             0.596970   \n4       cut-qaoa    500            0.531927             0.557164   \n...          ...    ...                 ...                  ...   \n7555    cut-qaoa   9750            0.308306             0.439712   \n7556  qaoa-short   9750            0.779287             0.656051   \n7557        qaoa  10000            0.885625             0.718819   \n7558    cut-qaoa  10000            0.307575             0.438901   \n7559  qaoa-short  10000            0.779351             0.656094   \n\n      mean_squared_error_norm  mean_absolute_error_norm exp_id  graph_size  \\\n0                    0.025681                  0.107626     61          10   \n1                    0.030490                  0.136660     61          10   \n2                    0.021770                  0.099458     61          10   \n3                    0.025210                  0.106009     61          10   \n4                    0.016774                  0.098941     61          10   \n...                       ...                       ...    ...         ...   \n7555                 0.012147                  0.087279     25          10   \n7556                 0.030703                  0.130220     25          10   \n7557                 0.034893                  0.142679     25          10   \n7558                 0.012118                  0.087118     25          10   \n7559                 0.030706                  0.130229     25          10   \n\n            backend  number_of_edges  \n0     ibmq_ehningen               14  \n1     ibmq_ehningen               14  \n2     ibmq_ehningen               14  \n3     ibmq_ehningen               14  \n4     ibmq_ehningen               14  \n...             ...              ...  \n7555   ibmq_kolkata               12  \n7556   ibmq_kolkata               12  \n7557   ibmq_kolkata               12  \n7558   ibmq_kolkata               12  \n7559   ibmq_kolkata               12  \n\n[7320 rows x 10 columns]",
      "text/html": "<div>\n<style scoped>\n    .dataframe tbody tr th:only-of-type {\n        vertical-align: middle;\n    }\n\n    .dataframe tbody tr th {\n        vertical-align: top;\n    }\n\n    .dataframe thead th {\n        text-align: right;\n    }\n</style>\n<table border=\"1\" class=\"dataframe\">\n  <thead>\n    <tr style=\"text-align: right;\">\n      <th></th>\n      <th>algorithm</th>\n      <th>shots</th>\n      <th>mean_squared_error</th>\n      <th>mean_absolute_error</th>\n      <th>mean_squared_error_norm</th>\n      <th>mean_absolute_error_norm</th>\n      <th>exp_id</th>\n      <th>graph_size</th>\n      <th>backend</th>\n      <th>number_of_edges</th>\n    </tr>\n  </thead>\n  <tbody>\n    <tr>\n      <th>0</th>\n      <td>qaoa</td>\n      <td>250</td>\n      <td>0.814374</td>\n      <td>0.606072</td>\n      <td>0.025681</td>\n      <td>0.107626</td>\n      <td>61</td>\n      <td>10</td>\n      <td>ibmq_ehningen</td>\n      <td>14</td>\n    </tr>\n    <tr>\n      <th>1</th>\n      <td>cut-qaoa</td>\n      <td>250</td>\n      <td>0.966889</td>\n      <td>0.769572</td>\n      <td>0.030490</td>\n      <td>0.136660</td>\n      <td>61</td>\n      <td>10</td>\n      <td>ibmq_ehningen</td>\n      <td>14</td>\n    </tr>\n    <tr>\n      <th>2</th>\n      <td>qaoa-short</td>\n      <td>250</td>\n      <td>0.690346</td>\n      <td>0.560076</td>\n      <td>0.021770</td>\n      <td>0.099458</td>\n      <td>61</td>\n      <td>10</td>\n      <td>ibmq_ehningen</td>\n      <td>14</td>\n    </tr>\n    <tr>\n      <th>3</th>\n      <td>qaoa</td>\n      <td>500</td>\n      <td>0.799434</td>\n      <td>0.596970</td>\n      <td>0.025210</td>\n      <td>0.106009</td>\n      <td>61</td>\n      <td>10</td>\n      <td>ibmq_ehningen</td>\n      <td>14</td>\n    </tr>\n    <tr>\n      <th>4</th>\n      <td>cut-qaoa</td>\n      <td>500</td>\n      <td>0.531927</td>\n      <td>0.557164</td>\n      <td>0.016774</td>\n      <td>0.098941</td>\n      <td>61</td>\n      <td>10</td>\n      <td>ibmq_ehningen</td>\n      <td>14</td>\n    </tr>\n    <tr>\n      <th>...</th>\n      <td>...</td>\n      <td>...</td>\n      <td>...</td>\n      <td>...</td>\n      <td>...</td>\n      <td>...</td>\n      <td>...</td>\n      <td>...</td>\n      <td>...</td>\n      <td>...</td>\n    </tr>\n    <tr>\n      <th>7555</th>\n      <td>cut-qaoa</td>\n      <td>9750</td>\n      <td>0.308306</td>\n      <td>0.439712</td>\n      <td>0.012147</td>\n      <td>0.087279</td>\n      <td>25</td>\n      <td>10</td>\n      <td>ibmq_kolkata</td>\n      <td>12</td>\n    </tr>\n    <tr>\n      <th>7556</th>\n      <td>qaoa-short</td>\n      <td>9750</td>\n      <td>0.779287</td>\n      <td>0.656051</td>\n      <td>0.030703</td>\n      <td>0.130220</td>\n      <td>25</td>\n      <td>10</td>\n      <td>ibmq_kolkata</td>\n      <td>12</td>\n    </tr>\n    <tr>\n      <th>7557</th>\n      <td>qaoa</td>\n      <td>10000</td>\n      <td>0.885625</td>\n      <td>0.718819</td>\n      <td>0.034893</td>\n      <td>0.142679</td>\n      <td>25</td>\n      <td>10</td>\n      <td>ibmq_kolkata</td>\n      <td>12</td>\n    </tr>\n    <tr>\n      <th>7558</th>\n      <td>cut-qaoa</td>\n      <td>10000</td>\n      <td>0.307575</td>\n      <td>0.438901</td>\n      <td>0.012118</td>\n      <td>0.087118</td>\n      <td>25</td>\n      <td>10</td>\n      <td>ibmq_kolkata</td>\n      <td>12</td>\n    </tr>\n    <tr>\n      <th>7559</th>\n      <td>qaoa-short</td>\n      <td>10000</td>\n      <td>0.779351</td>\n      <td>0.656094</td>\n      <td>0.030706</td>\n      <td>0.130229</td>\n      <td>25</td>\n      <td>10</td>\n      <td>ibmq_kolkata</td>\n      <td>12</td>\n    </tr>\n  </tbody>\n</table>\n<p>7320 rows × 10 columns</p>\n</div>"
     },
     "execution_count": 5,
     "metadata": {},
     "output_type": "execute_result"
    }
   ],
   "source": [
    "path = Path('experiment_complete')\n",
    "min_exp = None\n",
    "max_exp = None\n",
    "config = None\n",
    "add_config = True\n",
    "df = create_combined_df(path, min_exp, max_exp, config,\n",
    "                        csv_files_to_collect={'': 'param_map/errors.csv'}, add_config=add_config)\n",
    "df = df[df['graph_size'] != 14]\n",
    "df"
   ],
   "metadata": {
    "collapsed": false
   }
  },
  {
   "cell_type": "code",
   "execution_count": 6,
   "outputs": [
    {
     "data": {
      "text/plain": "61"
     },
     "execution_count": 6,
     "metadata": {},
     "output_type": "execute_result"
    }
   ],
   "source": [
    "# Total number of graphs\n",
    "len(df['exp_id'].unique())"
   ],
   "metadata": {
    "collapsed": false
   }
  },
  {
   "cell_type": "code",
   "execution_count": 7,
   "outputs": [
    {
     "data": {
      "text/plain": "     algorithm  shots  mean_squared_error  mean_absolute_error  \\\n117       qaoa  10000            0.769330             0.582954   \n237       qaoa  10000            0.399789             0.424714   \n357       qaoa  10000            0.516862             0.435933   \n477       qaoa  10000            0.645091             0.483174   \n597       qaoa  10000            0.745841             0.569174   \n...        ...    ...                 ...                  ...   \n7077      qaoa  10000            0.545088             0.494773   \n7197      qaoa  10000            0.491323             0.469821   \n7317      qaoa  10000            0.487720             0.514658   \n7437      qaoa  10000            0.915490             0.634660   \n7557      qaoa  10000            0.885625             0.718819   \n\n      mean_squared_error_norm  mean_absolute_error_norm exp_id  graph_size  \\\n117                  0.024260                  0.103520     61          10   \n237                  0.021147                  0.097680     59           8   \n357                  0.024158                  0.094246     66           8   \n477                  0.025756                  0.096546     50           8   \n597                  0.024291                  0.102717     68          10   \n...                       ...                       ...    ...         ...   \n7077                 0.020792                  0.096632     13          10   \n7197                      NaN                       NaN      5           8   \n7317                 0.022696                  0.111023     14          10   \n7437                 0.022341                  0.099144     22          12   \n7557                 0.034893                  0.142679     25          10   \n\n             backend  number_of_edges  \n117    ibmq_ehningen               14  \n237    ibmq_ehningen               11  \n357    ibmq_ehningen               12  \n477    ibmq_ehningen               13  \n597    ibmq_ehningen               15  \n...              ...              ...  \n7077  ibmq_guadalupe               13  \n7197   ibmq_ehningen               11  \n7317    ibmq_kolkata               11  \n7437  ibmq_guadalupe               16  \n7557    ibmq_kolkata               12  \n\n[61 rows x 10 columns]",
      "text/html": "<div>\n<style scoped>\n    .dataframe tbody tr th:only-of-type {\n        vertical-align: middle;\n    }\n\n    .dataframe tbody tr th {\n        vertical-align: top;\n    }\n\n    .dataframe thead th {\n        text-align: right;\n    }\n</style>\n<table border=\"1\" class=\"dataframe\">\n  <thead>\n    <tr style=\"text-align: right;\">\n      <th></th>\n      <th>algorithm</th>\n      <th>shots</th>\n      <th>mean_squared_error</th>\n      <th>mean_absolute_error</th>\n      <th>mean_squared_error_norm</th>\n      <th>mean_absolute_error_norm</th>\n      <th>exp_id</th>\n      <th>graph_size</th>\n      <th>backend</th>\n      <th>number_of_edges</th>\n    </tr>\n  </thead>\n  <tbody>\n    <tr>\n      <th>117</th>\n      <td>qaoa</td>\n      <td>10000</td>\n      <td>0.769330</td>\n      <td>0.582954</td>\n      <td>0.024260</td>\n      <td>0.103520</td>\n      <td>61</td>\n      <td>10</td>\n      <td>ibmq_ehningen</td>\n      <td>14</td>\n    </tr>\n    <tr>\n      <th>237</th>\n      <td>qaoa</td>\n      <td>10000</td>\n      <td>0.399789</td>\n      <td>0.424714</td>\n      <td>0.021147</td>\n      <td>0.097680</td>\n      <td>59</td>\n      <td>8</td>\n      <td>ibmq_ehningen</td>\n      <td>11</td>\n    </tr>\n    <tr>\n      <th>357</th>\n      <td>qaoa</td>\n      <td>10000</td>\n      <td>0.516862</td>\n      <td>0.435933</td>\n      <td>0.024158</td>\n      <td>0.094246</td>\n      <td>66</td>\n      <td>8</td>\n      <td>ibmq_ehningen</td>\n      <td>12</td>\n    </tr>\n    <tr>\n      <th>477</th>\n      <td>qaoa</td>\n      <td>10000</td>\n      <td>0.645091</td>\n      <td>0.483174</td>\n      <td>0.025756</td>\n      <td>0.096546</td>\n      <td>50</td>\n      <td>8</td>\n      <td>ibmq_ehningen</td>\n      <td>13</td>\n    </tr>\n    <tr>\n      <th>597</th>\n      <td>qaoa</td>\n      <td>10000</td>\n      <td>0.745841</td>\n      <td>0.569174</td>\n      <td>0.024291</td>\n      <td>0.102717</td>\n      <td>68</td>\n      <td>10</td>\n      <td>ibmq_ehningen</td>\n      <td>15</td>\n    </tr>\n    <tr>\n      <th>...</th>\n      <td>...</td>\n      <td>...</td>\n      <td>...</td>\n      <td>...</td>\n      <td>...</td>\n      <td>...</td>\n      <td>...</td>\n      <td>...</td>\n      <td>...</td>\n      <td>...</td>\n    </tr>\n    <tr>\n      <th>7077</th>\n      <td>qaoa</td>\n      <td>10000</td>\n      <td>0.545088</td>\n      <td>0.494773</td>\n      <td>0.020792</td>\n      <td>0.096632</td>\n      <td>13</td>\n      <td>10</td>\n      <td>ibmq_guadalupe</td>\n      <td>13</td>\n    </tr>\n    <tr>\n      <th>7197</th>\n      <td>qaoa</td>\n      <td>10000</td>\n      <td>0.491323</td>\n      <td>0.469821</td>\n      <td>NaN</td>\n      <td>NaN</td>\n      <td>5</td>\n      <td>8</td>\n      <td>ibmq_ehningen</td>\n      <td>11</td>\n    </tr>\n    <tr>\n      <th>7317</th>\n      <td>qaoa</td>\n      <td>10000</td>\n      <td>0.487720</td>\n      <td>0.514658</td>\n      <td>0.022696</td>\n      <td>0.111023</td>\n      <td>14</td>\n      <td>10</td>\n      <td>ibmq_kolkata</td>\n      <td>11</td>\n    </tr>\n    <tr>\n      <th>7437</th>\n      <td>qaoa</td>\n      <td>10000</td>\n      <td>0.915490</td>\n      <td>0.634660</td>\n      <td>0.022341</td>\n      <td>0.099144</td>\n      <td>22</td>\n      <td>12</td>\n      <td>ibmq_guadalupe</td>\n      <td>16</td>\n    </tr>\n    <tr>\n      <th>7557</th>\n      <td>qaoa</td>\n      <td>10000</td>\n      <td>0.885625</td>\n      <td>0.718819</td>\n      <td>0.034893</td>\n      <td>0.142679</td>\n      <td>25</td>\n      <td>10</td>\n      <td>ibmq_kolkata</td>\n      <td>12</td>\n    </tr>\n  </tbody>\n</table>\n<p>61 rows × 10 columns</p>\n</div>"
     },
     "execution_count": 7,
     "metadata": {},
     "output_type": "execute_result"
    }
   ],
   "source": [
    "df_f = df[df['algorithm'] == 'qaoa']\n",
    "df_f = df_f[df_f['shots'] == 10000]\n",
    "df_f"
   ],
   "metadata": {
    "collapsed": false
   }
  },
  {
   "cell_type": "code",
   "execution_count": 8,
   "outputs": [
    {
     "data": {
      "text/plain": "            algorithm  shots  mean_squared_error  mean_absolute_error  \\\ngraph_size                                                              \n8                  18     18                  18                   18   \n10                 25     25                  25                   25   \n12                 18     18                  18                   18   \n\n            mean_squared_error_norm  mean_absolute_error_norm  exp_id  \\\ngraph_size                                                              \n8                                16                        16      18   \n10                               18                        18      25   \n12                               16                        16      18   \n\n            backend  number_of_edges  \ngraph_size                            \n8                18               18  \n10               25               25  \n12               18               18  ",
      "text/html": "<div>\n<style scoped>\n    .dataframe tbody tr th:only-of-type {\n        vertical-align: middle;\n    }\n\n    .dataframe tbody tr th {\n        vertical-align: top;\n    }\n\n    .dataframe thead th {\n        text-align: right;\n    }\n</style>\n<table border=\"1\" class=\"dataframe\">\n  <thead>\n    <tr style=\"text-align: right;\">\n      <th></th>\n      <th>algorithm</th>\n      <th>shots</th>\n      <th>mean_squared_error</th>\n      <th>mean_absolute_error</th>\n      <th>mean_squared_error_norm</th>\n      <th>mean_absolute_error_norm</th>\n      <th>exp_id</th>\n      <th>backend</th>\n      <th>number_of_edges</th>\n    </tr>\n    <tr>\n      <th>graph_size</th>\n      <th></th>\n      <th></th>\n      <th></th>\n      <th></th>\n      <th></th>\n      <th></th>\n      <th></th>\n      <th></th>\n      <th></th>\n    </tr>\n  </thead>\n  <tbody>\n    <tr>\n      <th>8</th>\n      <td>18</td>\n      <td>18</td>\n      <td>18</td>\n      <td>18</td>\n      <td>16</td>\n      <td>16</td>\n      <td>18</td>\n      <td>18</td>\n      <td>18</td>\n    </tr>\n    <tr>\n      <th>10</th>\n      <td>25</td>\n      <td>25</td>\n      <td>25</td>\n      <td>25</td>\n      <td>18</td>\n      <td>18</td>\n      <td>25</td>\n      <td>25</td>\n      <td>25</td>\n    </tr>\n    <tr>\n      <th>12</th>\n      <td>18</td>\n      <td>18</td>\n      <td>18</td>\n      <td>18</td>\n      <td>16</td>\n      <td>16</td>\n      <td>18</td>\n      <td>18</td>\n      <td>18</td>\n    </tr>\n  </tbody>\n</table>\n</div>"
     },
     "execution_count": 8,
     "metadata": {},
     "output_type": "execute_result"
    }
   ],
   "source": [
    "df_f.groupby('graph_size').count()"
   ],
   "metadata": {
    "collapsed": false
   }
  },
  {
   "cell_type": "code",
   "execution_count": 9,
   "outputs": [
    {
     "data": {
      "text/plain": "                algorithm  shots  mean_squared_error  mean_absolute_error  \\\nbackend                                                                     \nibmq_ehningen          39     39                  39                   39   \nibmq_guadalupe          5      5                   5                    5   \nibmq_kolkata            6      6                   6                    6   \nibmq_montreal           1      1                   1                    1   \nibmq_mumbai            10     10                  10                   10   \n\n                mean_squared_error_norm  mean_absolute_error_norm  exp_id  \\\nbackend                                                                     \nibmq_ehningen                        33                        33      39   \nibmq_guadalupe                        5                         5       5   \nibmq_kolkata                          5                         5       6   \nibmq_montreal                         0                         0       1   \nibmq_mumbai                           7                         7      10   \n\n                graph_size  number_of_edges  \nbackend                                      \nibmq_ehningen           39               39  \nibmq_guadalupe           5                5  \nibmq_kolkata             6                6  \nibmq_montreal            1                1  \nibmq_mumbai             10               10  ",
      "text/html": "<div>\n<style scoped>\n    .dataframe tbody tr th:only-of-type {\n        vertical-align: middle;\n    }\n\n    .dataframe tbody tr th {\n        vertical-align: top;\n    }\n\n    .dataframe thead th {\n        text-align: right;\n    }\n</style>\n<table border=\"1\" class=\"dataframe\">\n  <thead>\n    <tr style=\"text-align: right;\">\n      <th></th>\n      <th>algorithm</th>\n      <th>shots</th>\n      <th>mean_squared_error</th>\n      <th>mean_absolute_error</th>\n      <th>mean_squared_error_norm</th>\n      <th>mean_absolute_error_norm</th>\n      <th>exp_id</th>\n      <th>graph_size</th>\n      <th>number_of_edges</th>\n    </tr>\n    <tr>\n      <th>backend</th>\n      <th></th>\n      <th></th>\n      <th></th>\n      <th></th>\n      <th></th>\n      <th></th>\n      <th></th>\n      <th></th>\n      <th></th>\n    </tr>\n  </thead>\n  <tbody>\n    <tr>\n      <th>ibmq_ehningen</th>\n      <td>39</td>\n      <td>39</td>\n      <td>39</td>\n      <td>39</td>\n      <td>33</td>\n      <td>33</td>\n      <td>39</td>\n      <td>39</td>\n      <td>39</td>\n    </tr>\n    <tr>\n      <th>ibmq_guadalupe</th>\n      <td>5</td>\n      <td>5</td>\n      <td>5</td>\n      <td>5</td>\n      <td>5</td>\n      <td>5</td>\n      <td>5</td>\n      <td>5</td>\n      <td>5</td>\n    </tr>\n    <tr>\n      <th>ibmq_kolkata</th>\n      <td>6</td>\n      <td>6</td>\n      <td>6</td>\n      <td>6</td>\n      <td>5</td>\n      <td>5</td>\n      <td>6</td>\n      <td>6</td>\n      <td>6</td>\n    </tr>\n    <tr>\n      <th>ibmq_montreal</th>\n      <td>1</td>\n      <td>1</td>\n      <td>1</td>\n      <td>1</td>\n      <td>0</td>\n      <td>0</td>\n      <td>1</td>\n      <td>1</td>\n      <td>1</td>\n    </tr>\n    <tr>\n      <th>ibmq_mumbai</th>\n      <td>10</td>\n      <td>10</td>\n      <td>10</td>\n      <td>10</td>\n      <td>7</td>\n      <td>7</td>\n      <td>10</td>\n      <td>10</td>\n      <td>10</td>\n    </tr>\n  </tbody>\n</table>\n</div>"
     },
     "execution_count": 9,
     "metadata": {},
     "output_type": "execute_result"
    }
   ],
   "source": [
    "df_f.groupby('backend').count()"
   ],
   "metadata": {
    "collapsed": false
   }
  },
  {
   "cell_type": "code",
   "execution_count": 10,
   "outputs": [
    {
     "data": {
      "text/plain": "graph_size\n8      8\n10    10\n12    13\nName: number_of_edges, dtype: int64"
     },
     "execution_count": 10,
     "metadata": {},
     "output_type": "execute_result"
    }
   ],
   "source": [
    "df_f.groupby('graph_size').min('number_of_edges')['number_of_edges']"
   ],
   "metadata": {
    "collapsed": false
   }
  },
  {
   "cell_type": "code",
   "execution_count": 11,
   "outputs": [
    {
     "data": {
      "text/plain": "graph_size\n8     14\n10    16\n12    21\nName: number_of_edges, dtype: int64"
     },
     "execution_count": 11,
     "metadata": {},
     "output_type": "execute_result"
    }
   ],
   "source": [
    "df_f.groupby('graph_size').max('number_of_edges')['number_of_edges']"
   ],
   "metadata": {
    "collapsed": false
   }
  },
  {
   "cell_type": "code",
   "execution_count": 12,
   "outputs": [
    {
     "data": {
      "text/plain": "     algorithm  shots  mean_squared_error  mean_absolute_error  \\\n117       qaoa  10000            0.769330             0.582954   \n237       qaoa  10000            0.399789             0.424714   \n357       qaoa  10000            0.516862             0.435933   \n477       qaoa  10000            0.645091             0.483174   \n597       qaoa  10000            0.745841             0.569174   \n717       qaoa  10000            0.507635             0.531424   \n837       qaoa  10000            0.746852             0.569645   \n957       qaoa  10000            1.152318             0.649463   \n1077      qaoa  10000            0.762737             0.522668   \n1197      qaoa  10000            0.694053             0.509934   \n1317      qaoa  10000            1.135438             0.654384   \n1437      qaoa  10000            0.727533             0.577311   \n1557      qaoa  10000            0.593357             0.552053   \n1677      qaoa  10000            0.391450             0.471021   \n1917      qaoa  10000            1.345092             0.798609   \n2037      qaoa  10000            0.903068             0.627619   \n2157      qaoa  10000            0.668619             0.551908   \n2277      qaoa  10000            1.372309             0.789272   \n2637      qaoa  10000            0.961722             0.656175   \n2757      qaoa  10000            0.654621             0.596661   \n2997      qaoa  10000            0.479474             0.488689   \n3477      qaoa  10000            1.114990             0.802835   \n3837      qaoa  10000            0.982438             0.732397   \n3957      qaoa  10000            0.663305             0.614720   \n4077      qaoa  10000            0.473891             0.497069   \n4197      qaoa  10000            0.889341             0.607271   \n4317      qaoa  10000            0.926308             0.667087   \n4437      qaoa  10000            0.410262             0.449016   \n4557      qaoa  10000            1.014420             0.680077   \n4797      qaoa  10000            0.964153             0.656022   \n4917      qaoa  10000            0.773891             0.643045   \n5037      qaoa  10000            0.906593             0.654488   \n5157      qaoa  10000            0.337120             0.453672   \n5277      qaoa  10000            0.651915             0.473014   \n5397      qaoa  10000            0.835052             0.625342   \n5517      qaoa  10000            1.308524             0.745582   \n5637      qaoa  10000            1.178498             0.639236   \n5757      qaoa  10000            0.951919             0.603459   \n5877      qaoa  10000            1.430903             0.842087   \n6117      qaoa  10000            1.525096             0.846070   \n6477      qaoa  10000            0.861780             0.679616   \n6597      qaoa  10000            1.249593             0.695438   \n6717      qaoa  10000            0.881314             0.560184   \n7077      qaoa  10000            0.545088             0.494773   \n7317      qaoa  10000            0.487720             0.514658   \n7437      qaoa  10000            0.915490             0.634660   \n7557      qaoa  10000            0.885625             0.718819   \n\n      mean_squared_error_norm  mean_absolute_error_norm exp_id  graph_size  \\\n117                  0.024260                  0.103520     61          10   \n237                  0.021147                  0.097680     59           8   \n357                  0.024158                  0.094246     66           8   \n477                  0.025756                  0.096546     50           8   \n597                  0.024291                  0.102717     68          10   \n717                  0.026094                  0.120485     57           8   \n837                  0.022728                  0.099373     32          10   \n957                  0.024617                  0.094926     35          12   \n1077                 0.029702                  0.103141     69           8   \n1197                 0.025782                  0.098282     56           8   \n1317                 0.026819                  0.100571     51          12   \n1437                 0.027716                  0.112681     58           8   \n1557                 0.024170                  0.111420     67          10   \n1677                 0.023573                  0.115588     60           8   \n1917                 0.029369                  0.118005     33          12   \n2037                 0.027172                  0.108867     20          10   \n2157                 0.028636                  0.114217     18          10   \n2277                 0.027281                  0.111283     27          12   \n2637                 0.026995                  0.109934     29          10   \n2757                 0.035023                  0.138011     45           8   \n2997                 0.018493                  0.095974     28          10   \n3477                 0.038615                  0.149406     26          10   \n3837                 0.047301                  0.160705     38           8   \n3957                 0.035971                  0.143151     36           8   \n4077                 0.020812                  0.104168     31          10   \n4197                 0.021789                  0.095052     65          12   \n4317                 0.025760                  0.111244     62          12   \n4437                 0.031723                  0.124858     54           8   \n4557                 0.023512                  0.103536     53          12   \n4797                 0.029674                  0.115090     37          10   \n4917                 0.039274                  0.144862     39           8   \n5037                 0.022014                  0.101988     52          12   \n5157                 0.019414                  0.108870     55           8   \n5277                 0.025834                  0.094162     63           8   \n5397                 0.027266                  0.112998     64          10   \n5517                 0.025584                  0.104252     46          12   \n5637                 0.022012                  0.087362     70          12   \n5757                 0.020029                  0.087534     24          12   \n5877                 0.027891                  0.117567     23          12   \n6117                 0.029432                  0.117534     15          12   \n6477                 0.024216                  0.113924     71          12   \n6597                 0.029252                  0.106403     49          12   \n6717                 0.030622                  0.104420     40           8   \n7077                 0.020792                  0.096632     13          10   \n7317                 0.022696                  0.111023     14          10   \n7437                 0.022341                  0.099144     22          12   \n7557                 0.034893                  0.142679     25          10   \n\n             backend  number_of_edges  \n117    ibmq_ehningen               14  \n237    ibmq_ehningen               11  \n357    ibmq_ehningen               12  \n477    ibmq_ehningen               13  \n597    ibmq_ehningen               15  \n717    ibmq_ehningen               11  \n837   ibmq_guadalupe               15  \n957     ibmq_kolkata               19  \n1077   ibmq_ehningen               13  \n1197   ibmq_ehningen               13  \n1317   ibmq_ehningen               17  \n1437   ibmq_ehningen               13  \n1557   ibmq_ehningen               12  \n1677   ibmq_ehningen               10  \n1917     ibmq_mumbai               19  \n2037   ibmq_ehningen               15  \n2157     ibmq_mumbai               11  \n2277   ibmq_ehningen               19  \n2637     ibmq_mumbai               16  \n2757   ibmq_ehningen               11  \n2997    ibmq_kolkata               12  \n3477   ibmq_ehningen               13  \n3837   ibmq_ehningen               12  \n3957   ibmq_ehningen               11  \n4077  ibmq_guadalupe               11  \n4197   ibmq_ehningen               17  \n4317   ibmq_ehningen               16  \n4437   ibmq_ehningen                8  \n4557   ibmq_ehningen               17  \n4797    ibmq_kolkata               15  \n4917     ibmq_mumbai               11  \n5037     ibmq_mumbai               17  \n5157   ibmq_ehningen               10  \n5277   ibmq_ehningen               13  \n5397   ibmq_ehningen               15  \n5517   ibmq_ehningen               20  \n5637   ibmq_ehningen               20  \n5757   ibmq_ehningen               20  \n5877   ibmq_ehningen               20  \n6117  ibmq_guadalupe               21  \n6477   ibmq_ehningen               15  \n6597   ibmq_ehningen               16  \n6717     ibmq_mumbai               14  \n7077  ibmq_guadalupe               13  \n7317    ibmq_kolkata               11  \n7437  ibmq_guadalupe               16  \n7557    ibmq_kolkata               12  ",
      "text/html": "<div>\n<style scoped>\n    .dataframe tbody tr th:only-of-type {\n        vertical-align: middle;\n    }\n\n    .dataframe tbody tr th {\n        vertical-align: top;\n    }\n\n    .dataframe thead th {\n        text-align: right;\n    }\n</style>\n<table border=\"1\" class=\"dataframe\">\n  <thead>\n    <tr style=\"text-align: right;\">\n      <th></th>\n      <th>algorithm</th>\n      <th>shots</th>\n      <th>mean_squared_error</th>\n      <th>mean_absolute_error</th>\n      <th>mean_squared_error_norm</th>\n      <th>mean_absolute_error_norm</th>\n      <th>exp_id</th>\n      <th>graph_size</th>\n      <th>backend</th>\n      <th>number_of_edges</th>\n    </tr>\n  </thead>\n  <tbody>\n    <tr>\n      <th>117</th>\n      <td>qaoa</td>\n      <td>10000</td>\n      <td>0.769330</td>\n      <td>0.582954</td>\n      <td>0.024260</td>\n      <td>0.103520</td>\n      <td>61</td>\n      <td>10</td>\n      <td>ibmq_ehningen</td>\n      <td>14</td>\n    </tr>\n    <tr>\n      <th>237</th>\n      <td>qaoa</td>\n      <td>10000</td>\n      <td>0.399789</td>\n      <td>0.424714</td>\n      <td>0.021147</td>\n      <td>0.097680</td>\n      <td>59</td>\n      <td>8</td>\n      <td>ibmq_ehningen</td>\n      <td>11</td>\n    </tr>\n    <tr>\n      <th>357</th>\n      <td>qaoa</td>\n      <td>10000</td>\n      <td>0.516862</td>\n      <td>0.435933</td>\n      <td>0.024158</td>\n      <td>0.094246</td>\n      <td>66</td>\n      <td>8</td>\n      <td>ibmq_ehningen</td>\n      <td>12</td>\n    </tr>\n    <tr>\n      <th>477</th>\n      <td>qaoa</td>\n      <td>10000</td>\n      <td>0.645091</td>\n      <td>0.483174</td>\n      <td>0.025756</td>\n      <td>0.096546</td>\n      <td>50</td>\n      <td>8</td>\n      <td>ibmq_ehningen</td>\n      <td>13</td>\n    </tr>\n    <tr>\n      <th>597</th>\n      <td>qaoa</td>\n      <td>10000</td>\n      <td>0.745841</td>\n      <td>0.569174</td>\n      <td>0.024291</td>\n      <td>0.102717</td>\n      <td>68</td>\n      <td>10</td>\n      <td>ibmq_ehningen</td>\n      <td>15</td>\n    </tr>\n    <tr>\n      <th>717</th>\n      <td>qaoa</td>\n      <td>10000</td>\n      <td>0.507635</td>\n      <td>0.531424</td>\n      <td>0.026094</td>\n      <td>0.120485</td>\n      <td>57</td>\n      <td>8</td>\n      <td>ibmq_ehningen</td>\n      <td>11</td>\n    </tr>\n    <tr>\n      <th>837</th>\n      <td>qaoa</td>\n      <td>10000</td>\n      <td>0.746852</td>\n      <td>0.569645</td>\n      <td>0.022728</td>\n      <td>0.099373</td>\n      <td>32</td>\n      <td>10</td>\n      <td>ibmq_guadalupe</td>\n      <td>15</td>\n    </tr>\n    <tr>\n      <th>957</th>\n      <td>qaoa</td>\n      <td>10000</td>\n      <td>1.152318</td>\n      <td>0.649463</td>\n      <td>0.024617</td>\n      <td>0.094926</td>\n      <td>35</td>\n      <td>12</td>\n      <td>ibmq_kolkata</td>\n      <td>19</td>\n    </tr>\n    <tr>\n      <th>1077</th>\n      <td>qaoa</td>\n      <td>10000</td>\n      <td>0.762737</td>\n      <td>0.522668</td>\n      <td>0.029702</td>\n      <td>0.103141</td>\n      <td>69</td>\n      <td>8</td>\n      <td>ibmq_ehningen</td>\n      <td>13</td>\n    </tr>\n    <tr>\n      <th>1197</th>\n      <td>qaoa</td>\n      <td>10000</td>\n      <td>0.694053</td>\n      <td>0.509934</td>\n      <td>0.025782</td>\n      <td>0.098282</td>\n      <td>56</td>\n      <td>8</td>\n      <td>ibmq_ehningen</td>\n      <td>13</td>\n    </tr>\n    <tr>\n      <th>1317</th>\n      <td>qaoa</td>\n      <td>10000</td>\n      <td>1.135438</td>\n      <td>0.654384</td>\n      <td>0.026819</td>\n      <td>0.100571</td>\n      <td>51</td>\n      <td>12</td>\n      <td>ibmq_ehningen</td>\n      <td>17</td>\n    </tr>\n    <tr>\n      <th>1437</th>\n      <td>qaoa</td>\n      <td>10000</td>\n      <td>0.727533</td>\n      <td>0.577311</td>\n      <td>0.027716</td>\n      <td>0.112681</td>\n      <td>58</td>\n      <td>8</td>\n      <td>ibmq_ehningen</td>\n      <td>13</td>\n    </tr>\n    <tr>\n      <th>1557</th>\n      <td>qaoa</td>\n      <td>10000</td>\n      <td>0.593357</td>\n      <td>0.552053</td>\n      <td>0.024170</td>\n      <td>0.111420</td>\n      <td>67</td>\n      <td>10</td>\n      <td>ibmq_ehningen</td>\n      <td>12</td>\n    </tr>\n    <tr>\n      <th>1677</th>\n      <td>qaoa</td>\n      <td>10000</td>\n      <td>0.391450</td>\n      <td>0.471021</td>\n      <td>0.023573</td>\n      <td>0.115588</td>\n      <td>60</td>\n      <td>8</td>\n      <td>ibmq_ehningen</td>\n      <td>10</td>\n    </tr>\n    <tr>\n      <th>1917</th>\n      <td>qaoa</td>\n      <td>10000</td>\n      <td>1.345092</td>\n      <td>0.798609</td>\n      <td>0.029369</td>\n      <td>0.118005</td>\n      <td>33</td>\n      <td>12</td>\n      <td>ibmq_mumbai</td>\n      <td>19</td>\n    </tr>\n    <tr>\n      <th>2037</th>\n      <td>qaoa</td>\n      <td>10000</td>\n      <td>0.903068</td>\n      <td>0.627619</td>\n      <td>0.027172</td>\n      <td>0.108867</td>\n      <td>20</td>\n      <td>10</td>\n      <td>ibmq_ehningen</td>\n      <td>15</td>\n    </tr>\n    <tr>\n      <th>2157</th>\n      <td>qaoa</td>\n      <td>10000</td>\n      <td>0.668619</td>\n      <td>0.551908</td>\n      <td>0.028636</td>\n      <td>0.114217</td>\n      <td>18</td>\n      <td>10</td>\n      <td>ibmq_mumbai</td>\n      <td>11</td>\n    </tr>\n    <tr>\n      <th>2277</th>\n      <td>qaoa</td>\n      <td>10000</td>\n      <td>1.372309</td>\n      <td>0.789272</td>\n      <td>0.027281</td>\n      <td>0.111283</td>\n      <td>27</td>\n      <td>12</td>\n      <td>ibmq_ehningen</td>\n      <td>19</td>\n    </tr>\n    <tr>\n      <th>2637</th>\n      <td>qaoa</td>\n      <td>10000</td>\n      <td>0.961722</td>\n      <td>0.656175</td>\n      <td>0.026995</td>\n      <td>0.109934</td>\n      <td>29</td>\n      <td>10</td>\n      <td>ibmq_mumbai</td>\n      <td>16</td>\n    </tr>\n    <tr>\n      <th>2757</th>\n      <td>qaoa</td>\n      <td>10000</td>\n      <td>0.654621</td>\n      <td>0.596661</td>\n      <td>0.035023</td>\n      <td>0.138011</td>\n      <td>45</td>\n      <td>8</td>\n      <td>ibmq_ehningen</td>\n      <td>11</td>\n    </tr>\n    <tr>\n      <th>2997</th>\n      <td>qaoa</td>\n      <td>10000</td>\n      <td>0.479474</td>\n      <td>0.488689</td>\n      <td>0.018493</td>\n      <td>0.095974</td>\n      <td>28</td>\n      <td>10</td>\n      <td>ibmq_kolkata</td>\n      <td>12</td>\n    </tr>\n    <tr>\n      <th>3477</th>\n      <td>qaoa</td>\n      <td>10000</td>\n      <td>1.114990</td>\n      <td>0.802835</td>\n      <td>0.038615</td>\n      <td>0.149406</td>\n      <td>26</td>\n      <td>10</td>\n      <td>ibmq_ehningen</td>\n      <td>13</td>\n    </tr>\n    <tr>\n      <th>3837</th>\n      <td>qaoa</td>\n      <td>10000</td>\n      <td>0.982438</td>\n      <td>0.732397</td>\n      <td>0.047301</td>\n      <td>0.160705</td>\n      <td>38</td>\n      <td>8</td>\n      <td>ibmq_ehningen</td>\n      <td>12</td>\n    </tr>\n    <tr>\n      <th>3957</th>\n      <td>qaoa</td>\n      <td>10000</td>\n      <td>0.663305</td>\n      <td>0.614720</td>\n      <td>0.035971</td>\n      <td>0.143151</td>\n      <td>36</td>\n      <td>8</td>\n      <td>ibmq_ehningen</td>\n      <td>11</td>\n    </tr>\n    <tr>\n      <th>4077</th>\n      <td>qaoa</td>\n      <td>10000</td>\n      <td>0.473891</td>\n      <td>0.497069</td>\n      <td>0.020812</td>\n      <td>0.104168</td>\n      <td>31</td>\n      <td>10</td>\n      <td>ibmq_guadalupe</td>\n      <td>11</td>\n    </tr>\n    <tr>\n      <th>4197</th>\n      <td>qaoa</td>\n      <td>10000</td>\n      <td>0.889341</td>\n      <td>0.607271</td>\n      <td>0.021789</td>\n      <td>0.095052</td>\n      <td>65</td>\n      <td>12</td>\n      <td>ibmq_ehningen</td>\n      <td>17</td>\n    </tr>\n    <tr>\n      <th>4317</th>\n      <td>qaoa</td>\n      <td>10000</td>\n      <td>0.926308</td>\n      <td>0.667087</td>\n      <td>0.025760</td>\n      <td>0.111244</td>\n      <td>62</td>\n      <td>12</td>\n      <td>ibmq_ehningen</td>\n      <td>16</td>\n    </tr>\n    <tr>\n      <th>4437</th>\n      <td>qaoa</td>\n      <td>10000</td>\n      <td>0.410262</td>\n      <td>0.449016</td>\n      <td>0.031723</td>\n      <td>0.124858</td>\n      <td>54</td>\n      <td>8</td>\n      <td>ibmq_ehningen</td>\n      <td>8</td>\n    </tr>\n    <tr>\n      <th>4557</th>\n      <td>qaoa</td>\n      <td>10000</td>\n      <td>1.014420</td>\n      <td>0.680077</td>\n      <td>0.023512</td>\n      <td>0.103536</td>\n      <td>53</td>\n      <td>12</td>\n      <td>ibmq_ehningen</td>\n      <td>17</td>\n    </tr>\n    <tr>\n      <th>4797</th>\n      <td>qaoa</td>\n      <td>10000</td>\n      <td>0.964153</td>\n      <td>0.656022</td>\n      <td>0.029674</td>\n      <td>0.115090</td>\n      <td>37</td>\n      <td>10</td>\n      <td>ibmq_kolkata</td>\n      <td>15</td>\n    </tr>\n    <tr>\n      <th>4917</th>\n      <td>qaoa</td>\n      <td>10000</td>\n      <td>0.773891</td>\n      <td>0.643045</td>\n      <td>0.039274</td>\n      <td>0.144862</td>\n      <td>39</td>\n      <td>8</td>\n      <td>ibmq_mumbai</td>\n      <td>11</td>\n    </tr>\n    <tr>\n      <th>5037</th>\n      <td>qaoa</td>\n      <td>10000</td>\n      <td>0.906593</td>\n      <td>0.654488</td>\n      <td>0.022014</td>\n      <td>0.101988</td>\n      <td>52</td>\n      <td>12</td>\n      <td>ibmq_mumbai</td>\n      <td>17</td>\n    </tr>\n    <tr>\n      <th>5157</th>\n      <td>qaoa</td>\n      <td>10000</td>\n      <td>0.337120</td>\n      <td>0.453672</td>\n      <td>0.019414</td>\n      <td>0.108870</td>\n      <td>55</td>\n      <td>8</td>\n      <td>ibmq_ehningen</td>\n      <td>10</td>\n    </tr>\n    <tr>\n      <th>5277</th>\n      <td>qaoa</td>\n      <td>10000</td>\n      <td>0.651915</td>\n      <td>0.473014</td>\n      <td>0.025834</td>\n      <td>0.094162</td>\n      <td>63</td>\n      <td>8</td>\n      <td>ibmq_ehningen</td>\n      <td>13</td>\n    </tr>\n    <tr>\n      <th>5397</th>\n      <td>qaoa</td>\n      <td>10000</td>\n      <td>0.835052</td>\n      <td>0.625342</td>\n      <td>0.027266</td>\n      <td>0.112998</td>\n      <td>64</td>\n      <td>10</td>\n      <td>ibmq_ehningen</td>\n      <td>15</td>\n    </tr>\n    <tr>\n      <th>5517</th>\n      <td>qaoa</td>\n      <td>10000</td>\n      <td>1.308524</td>\n      <td>0.745582</td>\n      <td>0.025584</td>\n      <td>0.104252</td>\n      <td>46</td>\n      <td>12</td>\n      <td>ibmq_ehningen</td>\n      <td>20</td>\n    </tr>\n    <tr>\n      <th>5637</th>\n      <td>qaoa</td>\n      <td>10000</td>\n      <td>1.178498</td>\n      <td>0.639236</td>\n      <td>0.022012</td>\n      <td>0.087362</td>\n      <td>70</td>\n      <td>12</td>\n      <td>ibmq_ehningen</td>\n      <td>20</td>\n    </tr>\n    <tr>\n      <th>5757</th>\n      <td>qaoa</td>\n      <td>10000</td>\n      <td>0.951919</td>\n      <td>0.603459</td>\n      <td>0.020029</td>\n      <td>0.087534</td>\n      <td>24</td>\n      <td>12</td>\n      <td>ibmq_ehningen</td>\n      <td>20</td>\n    </tr>\n    <tr>\n      <th>5877</th>\n      <td>qaoa</td>\n      <td>10000</td>\n      <td>1.430903</td>\n      <td>0.842087</td>\n      <td>0.027891</td>\n      <td>0.117567</td>\n      <td>23</td>\n      <td>12</td>\n      <td>ibmq_ehningen</td>\n      <td>20</td>\n    </tr>\n    <tr>\n      <th>6117</th>\n      <td>qaoa</td>\n      <td>10000</td>\n      <td>1.525096</td>\n      <td>0.846070</td>\n      <td>0.029432</td>\n      <td>0.117534</td>\n      <td>15</td>\n      <td>12</td>\n      <td>ibmq_guadalupe</td>\n      <td>21</td>\n    </tr>\n    <tr>\n      <th>6477</th>\n      <td>qaoa</td>\n      <td>10000</td>\n      <td>0.861780</td>\n      <td>0.679616</td>\n      <td>0.024216</td>\n      <td>0.113924</td>\n      <td>71</td>\n      <td>12</td>\n      <td>ibmq_ehningen</td>\n      <td>15</td>\n    </tr>\n    <tr>\n      <th>6597</th>\n      <td>qaoa</td>\n      <td>10000</td>\n      <td>1.249593</td>\n      <td>0.695438</td>\n      <td>0.029252</td>\n      <td>0.106403</td>\n      <td>49</td>\n      <td>12</td>\n      <td>ibmq_ehningen</td>\n      <td>16</td>\n    </tr>\n    <tr>\n      <th>6717</th>\n      <td>qaoa</td>\n      <td>10000</td>\n      <td>0.881314</td>\n      <td>0.560184</td>\n      <td>0.030622</td>\n      <td>0.104420</td>\n      <td>40</td>\n      <td>8</td>\n      <td>ibmq_mumbai</td>\n      <td>14</td>\n    </tr>\n    <tr>\n      <th>7077</th>\n      <td>qaoa</td>\n      <td>10000</td>\n      <td>0.545088</td>\n      <td>0.494773</td>\n      <td>0.020792</td>\n      <td>0.096632</td>\n      <td>13</td>\n      <td>10</td>\n      <td>ibmq_guadalupe</td>\n      <td>13</td>\n    </tr>\n    <tr>\n      <th>7317</th>\n      <td>qaoa</td>\n      <td>10000</td>\n      <td>0.487720</td>\n      <td>0.514658</td>\n      <td>0.022696</td>\n      <td>0.111023</td>\n      <td>14</td>\n      <td>10</td>\n      <td>ibmq_kolkata</td>\n      <td>11</td>\n    </tr>\n    <tr>\n      <th>7437</th>\n      <td>qaoa</td>\n      <td>10000</td>\n      <td>0.915490</td>\n      <td>0.634660</td>\n      <td>0.022341</td>\n      <td>0.099144</td>\n      <td>22</td>\n      <td>12</td>\n      <td>ibmq_guadalupe</td>\n      <td>16</td>\n    </tr>\n    <tr>\n      <th>7557</th>\n      <td>qaoa</td>\n      <td>10000</td>\n      <td>0.885625</td>\n      <td>0.718819</td>\n      <td>0.034893</td>\n      <td>0.142679</td>\n      <td>25</td>\n      <td>10</td>\n      <td>ibmq_kolkata</td>\n      <td>12</td>\n    </tr>\n  </tbody>\n</table>\n</div>"
     },
     "execution_count": 12,
     "metadata": {},
     "output_type": "execute_result"
    }
   ],
   "source": [
    "df_2 = df_f[df_f['exp_id'].astype(int) > 12]\n",
    "df_2 = df_2[~df_2['exp_id'].isin(['19', '21', '30'])]\n",
    "df_2"
   ],
   "metadata": {
    "collapsed": false
   }
  },
  {
   "cell_type": "code",
   "execution_count": 13,
   "outputs": [
    {
     "data": {
      "text/plain": "            algorithm  shots  mean_squared_error  mean_absolute_error  \\\ngraph_size                                                              \n8                  16     16                  16                   16   \n10                 15     15                  15                   15   \n12                 16     16                  16                   16   \n\n            mean_squared_error_norm  mean_absolute_error_norm  exp_id  \\\ngraph_size                                                              \n8                                16                        16      16   \n10                               15                        15      15   \n12                               16                        16      16   \n\n            backend  number_of_edges  \ngraph_size                            \n8                16               16  \n10               15               15  \n12               16               16  ",
      "text/html": "<div>\n<style scoped>\n    .dataframe tbody tr th:only-of-type {\n        vertical-align: middle;\n    }\n\n    .dataframe tbody tr th {\n        vertical-align: top;\n    }\n\n    .dataframe thead th {\n        text-align: right;\n    }\n</style>\n<table border=\"1\" class=\"dataframe\">\n  <thead>\n    <tr style=\"text-align: right;\">\n      <th></th>\n      <th>algorithm</th>\n      <th>shots</th>\n      <th>mean_squared_error</th>\n      <th>mean_absolute_error</th>\n      <th>mean_squared_error_norm</th>\n      <th>mean_absolute_error_norm</th>\n      <th>exp_id</th>\n      <th>backend</th>\n      <th>number_of_edges</th>\n    </tr>\n    <tr>\n      <th>graph_size</th>\n      <th></th>\n      <th></th>\n      <th></th>\n      <th></th>\n      <th></th>\n      <th></th>\n      <th></th>\n      <th></th>\n      <th></th>\n    </tr>\n  </thead>\n  <tbody>\n    <tr>\n      <th>8</th>\n      <td>16</td>\n      <td>16</td>\n      <td>16</td>\n      <td>16</td>\n      <td>16</td>\n      <td>16</td>\n      <td>16</td>\n      <td>16</td>\n      <td>16</td>\n    </tr>\n    <tr>\n      <th>10</th>\n      <td>15</td>\n      <td>15</td>\n      <td>15</td>\n      <td>15</td>\n      <td>15</td>\n      <td>15</td>\n      <td>15</td>\n      <td>15</td>\n      <td>15</td>\n    </tr>\n    <tr>\n      <th>12</th>\n      <td>16</td>\n      <td>16</td>\n      <td>16</td>\n      <td>16</td>\n      <td>16</td>\n      <td>16</td>\n      <td>16</td>\n      <td>16</td>\n      <td>16</td>\n    </tr>\n  </tbody>\n</table>\n</div>"
     },
     "execution_count": 13,
     "metadata": {},
     "output_type": "execute_result"
    }
   ],
   "source": [
    "df_2.groupby('graph_size').count()"
   ],
   "metadata": {
    "collapsed": false
   }
  },
  {
   "cell_type": "code",
   "execution_count": 14,
   "outputs": [
    {
     "data": {
      "text/plain": "graph_size\n8      8\n10    11\n12    15\nName: number_of_edges, dtype: int64"
     },
     "execution_count": 14,
     "metadata": {},
     "output_type": "execute_result"
    }
   ],
   "source": [
    "df_2.groupby('graph_size').min('number_of_edges')['number_of_edges']"
   ],
   "metadata": {
    "collapsed": false
   }
  },
  {
   "cell_type": "code",
   "execution_count": 15,
   "outputs": [
    {
     "data": {
      "text/plain": "graph_size\n8     14\n10    16\n12    21\nName: number_of_edges, dtype: int64"
     },
     "execution_count": 15,
     "metadata": {},
     "output_type": "execute_result"
    }
   ],
   "source": [
    "df_2.groupby('graph_size').max('number_of_edges')['number_of_edges']"
   ],
   "metadata": {
    "collapsed": false
   }
  },
  {
   "cell_type": "code",
   "execution_count": 16,
   "outputs": [
    {
     "data": {
      "text/plain": "                algorithm  shots  mean_squared_error  mean_absolute_error  \\\nbackend                                                                     \nibmq_ehningen          31     31                  31                   31   \nibmq_guadalupe          5      5                   5                    5   \nibmq_kolkata            5      5                   5                    5   \nibmq_mumbai             6      6                   6                    6   \n\n                mean_squared_error_norm  mean_absolute_error_norm  exp_id  \\\nbackend                                                                     \nibmq_ehningen                        31                        31      31   \nibmq_guadalupe                        5                         5       5   \nibmq_kolkata                          5                         5       5   \nibmq_mumbai                           6                         6       6   \n\n                graph_size  number_of_edges  \nbackend                                      \nibmq_ehningen           31               31  \nibmq_guadalupe           5                5  \nibmq_kolkata             5                5  \nibmq_mumbai              6                6  ",
      "text/html": "<div>\n<style scoped>\n    .dataframe tbody tr th:only-of-type {\n        vertical-align: middle;\n    }\n\n    .dataframe tbody tr th {\n        vertical-align: top;\n    }\n\n    .dataframe thead th {\n        text-align: right;\n    }\n</style>\n<table border=\"1\" class=\"dataframe\">\n  <thead>\n    <tr style=\"text-align: right;\">\n      <th></th>\n      <th>algorithm</th>\n      <th>shots</th>\n      <th>mean_squared_error</th>\n      <th>mean_absolute_error</th>\n      <th>mean_squared_error_norm</th>\n      <th>mean_absolute_error_norm</th>\n      <th>exp_id</th>\n      <th>graph_size</th>\n      <th>number_of_edges</th>\n    </tr>\n    <tr>\n      <th>backend</th>\n      <th></th>\n      <th></th>\n      <th></th>\n      <th></th>\n      <th></th>\n      <th></th>\n      <th></th>\n      <th></th>\n      <th></th>\n    </tr>\n  </thead>\n  <tbody>\n    <tr>\n      <th>ibmq_ehningen</th>\n      <td>31</td>\n      <td>31</td>\n      <td>31</td>\n      <td>31</td>\n      <td>31</td>\n      <td>31</td>\n      <td>31</td>\n      <td>31</td>\n      <td>31</td>\n    </tr>\n    <tr>\n      <th>ibmq_guadalupe</th>\n      <td>5</td>\n      <td>5</td>\n      <td>5</td>\n      <td>5</td>\n      <td>5</td>\n      <td>5</td>\n      <td>5</td>\n      <td>5</td>\n      <td>5</td>\n    </tr>\n    <tr>\n      <th>ibmq_kolkata</th>\n      <td>5</td>\n      <td>5</td>\n      <td>5</td>\n      <td>5</td>\n      <td>5</td>\n      <td>5</td>\n      <td>5</td>\n      <td>5</td>\n      <td>5</td>\n    </tr>\n    <tr>\n      <th>ibmq_mumbai</th>\n      <td>6</td>\n      <td>6</td>\n      <td>6</td>\n      <td>6</td>\n      <td>6</td>\n      <td>6</td>\n      <td>6</td>\n      <td>6</td>\n      <td>6</td>\n    </tr>\n  </tbody>\n</table>\n</div>"
     },
     "execution_count": 16,
     "metadata": {},
     "output_type": "execute_result"
    }
   ],
   "source": [
    "df_2.groupby('backend').count()"
   ],
   "metadata": {
    "collapsed": false
   }
  },
  {
   "cell_type": "code",
   "execution_count": 13,
   "outputs": [],
   "source": [],
   "metadata": {
    "collapsed": false
   }
  },
  {
   "cell_type": "code",
   "execution_count": 13,
   "outputs": [],
   "source": [],
   "metadata": {
    "collapsed": false
   }
  },
  {
   "cell_type": "code",
   "execution_count": 13,
   "outputs": [],
   "source": [],
   "metadata": {
    "collapsed": false
   }
  }
 ],
 "metadata": {
  "kernelspec": {
   "display_name": "Python 3",
   "language": "python",
   "name": "python3"
  },
  "language_info": {
   "codemirror_mode": {
    "name": "ipython",
    "version": 2
   },
   "file_extension": ".py",
   "mimetype": "text/x-python",
   "name": "python",
   "nbconvert_exporter": "python",
   "pygments_lexer": "ipython2",
   "version": "2.7.6"
  }
 },
 "nbformat": 4,
 "nbformat_minor": 0
}
